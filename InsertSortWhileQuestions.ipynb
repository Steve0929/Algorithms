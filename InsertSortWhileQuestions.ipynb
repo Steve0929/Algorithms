{
 "cells": [
  {
   "cell_type": "code",
   "execution_count": 3,
   "metadata": {},
   "outputs": [],
   "source": [
    "import numpy as np\n",
    "import time\n",
    "import itertools\n",
    "\n",
    "def insertSort(arr):\n",
    "    j,k,x,steps = 0,0,0,0\n",
    "    v = [None]*len(arr)\n",
    "    \n",
    "    for a in range(0,len(arr)):\n",
    "        v[a] = arr[a]\n",
    "        \n",
    "    for i in range(1,len(arr)):\n",
    "        x = v[i]\n",
    "        j = i-1\n",
    "        \n",
    "        while((j > -1) and (v[j] > x)):\n",
    "            v[j+1] = v[j]\n",
    "            j = j -1\n",
    "            steps+=1\n",
    "            \n",
    "        steps+=1   \n",
    "            \n",
    "        v[j+1] = x;\n",
    "        \n",
    "    return steps"
   ]
  },
  {
   "cell_type": "code",
   "execution_count": 15,
   "metadata": {},
   "outputs": [
    {
     "name": "stdout",
     "output_type": "stream",
     "text": [
      "Ingrese un n:\n",
      "4\n",
      "Array: [0 1 2 3]\n",
      "Permutations:  24\n",
      "Average steps:  6.0\n"
     ]
    },
    {
     "data": {
      "image/png": "[encoded data removed]",
      "text/plain": [
       "<Figure size 432x288 with 1 Axes>"
      ]
     },
     "metadata": {},
     "output_type": "display_data"
    }
   ],
   "source": [
    "print(\"Ingrese un n:\")\n",
    "n = int(input())\n",
    "steps = []\n",
    "arr = np.arange(n)\n",
    "print(\"Array:\", arr)\n",
    "\n",
    "permList = list(itertools.permutations(arr,n))\n",
    "#print(permList)\n",
    "print(\"Permutations: \",len(permList))\n",
    "\n",
    "for i in range (0,len(permList)):\n",
    "    steps.append(insertSort(permList[i]))\n",
    "    #print(steps)\n",
    "\n",
    "import matplotlib.pyplot as plt \n",
    "weights = np.ones_like(steps)/float(len(steps))\n",
    "plt.xlabel('Steps') \n",
    "plt.ylabel('Probability') \n",
    "\n",
    "b= max(steps)+1\n",
    "plt.xticks(range(1, b))\n",
    "plt.hist(steps, weights=weights, bins= 20)\n",
    "\n",
    "\n",
    "av = np.average(steps)\n",
    "print(\"Average steps: \", av)\n",
    "\n",
    "    "
   ]
  },
  {
   "cell_type": "code",
   "execution_count": 16,
   "metadata": {},
   "outputs": [
    {
     "name": "stdout",
     "output_type": "stream",
     "text": [
      "Ingrese un n:\n",
      "8\n",
      "Array: [0 1 2 3 4 5 6 7]\n",
      "Permutations:  40320\n",
      "Average steps:  21.0\n"
     ]
    },
    {
     "data": {
      "image/png": "[encoded data removed]",
      "text/plain": [
       "<Figure size 432x288 with 1 Axes>"
      ]
     },
     "metadata": {},
     "output_type": "display_data"
    }
   ],
   "source": [
    "print(\"Ingrese un n:\")\n",
    "n = int(input())\n",
    "steps = []\n",
    "arr = np.arange(n)\n",
    "print(\"Array:\", arr)\n",
    "\n",
    "permList = list(itertools.permutations(arr,n))\n",
    "#print(permList)\n",
    "print(\"Permutations: \",len(permList))\n",
    "\n",
    "for i in range (0,len(permList)):\n",
    "    steps.append(insertSort(permList[i]))\n",
    "    #print(steps)\n",
    "\n",
    "import matplotlib.pyplot as plt \n",
    "weights = np.ones_like(steps)/float(len(steps))\n",
    "plt.xlabel('Steps') \n",
    "plt.ylabel('Probability') \n",
    "\n",
    "b= max(steps)+1\n",
    "plt.xticks(range(1, b))\n",
    "plt.hist(steps, weights=weights, bins= 20)\n",
    "\n",
    "\n",
    "av = np.average(steps)\n",
    "print(\"Average steps: \", av)\n"
   ]
  },
  {
   "cell_type": "code",
   "execution_count": 28,
   "metadata": {},
   "outputs": [
    {
     "name": "stdout",
     "output_type": "stream",
     "text": [
      "Ingrese un n:\n",
      "9\n",
      "Array: [0 1 2 3 4 5 6 7 8]\n",
      "Permutations:  362880\n",
      "Average steps:  26.0\n"
     ]
    },
    {
     "data": {
      "image/png": "[encoded data removed]",
      "text/plain": [
       "<Figure size 432x288 with 1 Axes>"
      ]
     },
     "metadata": {},
     "output_type": "display_data"
    }
   ],
   "source": [
    "print(\"Ingrese un n:\")\n",
    "n = int(input())\n",
    "steps = []\n",
    "arr = np.arange(n)\n",
    "print(\"Array:\", arr)\n",
    "\n",
    "permList = list(itertools.permutations(arr,n))\n",
    "#print(permList)\n",
    "print(\"Permutations: \",len(permList))\n",
    "\n",
    "for i in range (0,len(permList)):\n",
    "    steps.append(insertSort(permList[i]))\n",
    "    #print(steps)\n",
    "\n",
    "import matplotlib.pyplot as plt \n",
    "weights = np.ones_like(steps)/float(len(steps))\n",
    "plt.xlabel('Steps') \n",
    "plt.ylabel('Probability') \n",
    "\n",
    "b= max(steps)+1\n",
    "plt.xticks(range(1, b))\n",
    "plt.hist(steps, weights=weights, bins= 100)\n",
    "\n",
    "\n",
    "av = np.average(steps)\n",
    "print(\"Average steps: \", av)\n",
    "\n",
    "    "
   ]
  },
  {
   "cell_type": "code",
   "execution_count": 18,
   "metadata": {},
   "outputs": [
    {
     "name": "stdout",
     "output_type": "stream",
     "text": [
      "Ingrese un n:\n",
      "10\n",
      "Array: [0 1 2 3 4 5 6 7 8 9]\n"
     ]
    },
    {
     "ename": "MemoryError",
     "evalue": "",
     "output_type": "error",
     "traceback": [
      "\u001b[1;31m---------------------------------------------------------------------------\u001b[0m",
      "\u001b[1;31mMemoryError\u001b[0m                               Traceback (most recent call last)",
      "\u001b[1;32m<ipython-input-18-12e5e1f85e02>\u001b[0m in \u001b[0;36m<module>\u001b[1;34m()\u001b[0m\n\u001b[0;32m      5\u001b[0m \u001b[0mprint\u001b[0m\u001b[1;33m(\u001b[0m\u001b[1;34m\"Array:\"\u001b[0m\u001b[1;33m,\u001b[0m \u001b[0marr\u001b[0m\u001b[1;33m)\u001b[0m\u001b[1;33m\u001b[0m\u001b[0m\n\u001b[0;32m      6\u001b[0m \u001b[1;33m\u001b[0m\u001b[0m\n\u001b[1;32m----> 7\u001b[1;33m \u001b[0mpermList\u001b[0m \u001b[1;33m=\u001b[0m \u001b[0mlist\u001b[0m\u001b[1;33m(\u001b[0m\u001b[0mitertools\u001b[0m\u001b[1;33m.\u001b[0m\u001b[0mpermutations\u001b[0m\u001b[1;33m(\u001b[0m\u001b[0marr\u001b[0m\u001b[1;33m,\u001b[0m\u001b[0mn\u001b[0m\u001b[1;33m)\u001b[0m\u001b[1;33m)\u001b[0m\u001b[1;33m\u001b[0m\u001b[0m\n\u001b[0m\u001b[0;32m      8\u001b[0m \u001b[1;31m#print(permList)\u001b[0m\u001b[1;33m\u001b[0m\u001b[1;33m\u001b[0m\u001b[0m\n\u001b[0;32m      9\u001b[0m \u001b[0mprint\u001b[0m\u001b[1;33m(\u001b[0m\u001b[1;34m\"Permutations: \"\u001b[0m\u001b[1;33m,\u001b[0m\u001b[0mlen\u001b[0m\u001b[1;33m(\u001b[0m\u001b[0mpermList\u001b[0m\u001b[1;33m)\u001b[0m\u001b[1;33m)\u001b[0m\u001b[1;33m\u001b[0m\u001b[0m\n",
      "\u001b[1;31mMemoryError\u001b[0m: "
     ]
    }
   ],
   "source": [
    "print(\"Ingrese un n:\")\n",
    "n = int(input())\n",
    "steps = []\n",
    "arr = np.arange(n)\n",
    "print(\"Array:\", arr)\n",
    "\n",
    "permList = list(itertools.permutations(arr,n))\n",
    "#print(permList)\n",
    "print(\"Permutations: \",len(permList))\n",
    "\n",
    "for i in range (0,len(permList)):\n",
    "    steps.append(insertSort(permList[i]))\n",
    "    #print(steps)\n",
    "\n",
    "import matplotlib.pyplot as plt \n",
    "weights = np.ones_like(steps)/float(len(steps))\n",
    "plt.xlabel('Steps') \n",
    "plt.ylabel('Probability') \n",
    "\n",
    "b= max(steps)+1\n",
    "plt.xticks(range(1, b))\n",
    "plt.hist(steps, weights=weights, bins= 20)\n",
    "\n",
    "\n",
    "av = np.average(steps)\n",
    "print(\"Average steps: \", av)\n",
    "\n",
    "    \n",
    "    "
   ]
  }
 ],
 "metadata": {
  "kernelspec": {
   "display_name": "Python 3",
   "language": "python",
   "name": "python3"
  },
  "language_info": {
   "codemirror_mode": {
    "name": "ipython",
    "version": 3
   },
   "file_extension": ".py",
   "mimetype": "text/x-python",
   "name": "python",
   "nbconvert_exporter": "python",
   "pygments_lexer": "ipython3",
   "version": "3.6.2"
  }
 },
 "nbformat": 4,
 "nbformat_minor": 2
}
