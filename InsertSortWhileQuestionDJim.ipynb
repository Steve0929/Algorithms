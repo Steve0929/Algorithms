{
 "cells": [
  {
   "cell_type": "code",
   "execution_count": 2,
   "metadata": {},
   "outputs": [],
   "source": [
    "import  numpy  as  np\n",
    "import  itertools\n",
    "import matplotlib.pyplot as plt \n",
    "def insertSort(arr):\n",
    "    j,k,x,steps = 0,0,0,0\n",
    "    v = [None]*len(arr)\n",
    "    \n",
    "    for a in range(0,len(arr)):\n",
    "        v[a] = arr[a]\n",
    "        \n",
    "    for i in range(1,len(arr)):\n",
    "        x = v[i]\n",
    "        j = i-1\n",
    "        \n",
    "        while((j > -1) and (v[j] > x)):\n",
    "            v[j+1] = v[j]\n",
    "            j = j -1\n",
    "            steps+=1\n",
    "            \n",
    "        steps+=1   \n",
    "            \n",
    "        v[j+1] = x;\n",
    "        \n",
    "    return steps"
   ]
  },
  {
   "cell_type": "code",
   "execution_count": 3,
   "metadata": {},
   "outputs": [
    {
     "name": "stdout",
     "output_type": "stream",
     "text": [
      "Ingrese un n:\n",
      "4\n",
      "Array: [0 1 2 3]\n",
      "Permutaciones:  24\n",
      "Average steps:  6.0\n"
     ]
    },
    {
     "data": {
      "image/png": "[encoded data removed]",
      "text/plain": [
       "<Figure size 432x288 with 1 Axes>"
      ]
     },
     "metadata": {},
     "output_type": "display_data"
    }
   ],
   "source": [
    "def swap(v,i,j):\n",
    "    v[i], v[j] = v[j], v[i]\n",
    "\n",
    "def permDaniel(v,i,j):\n",
    "    if i==j:       \n",
    "        recur.extend(v) \n",
    "        #print(v)\n",
    "        #print(\"arr\",recur)\n",
    "        \n",
    "    for t in range(i, j+1):\n",
    "        swap(v,t,i)\n",
    "        permDaniel(v,i+1,j)\n",
    "        swap(v,t,i)\n",
    "\n",
    "print(\"Ingrese un n:\")\n",
    "n = int(input())\n",
    "steps = []\n",
    "recur = []\n",
    "arr = np.arange(n)\n",
    "print(\"Array:\", arr)\n",
    "permDaniel(arr,0,len(arr)-1)\n",
    "recur = np.array_split(recur, len(recur)/n)\n",
    "print(\"Permutaciones: \",len(recur))\n",
    "\n",
    "for i in range (0,len(recur)):\n",
    "    steps.append(insertSort(recur[i]))\n",
    "\n",
    "weights = np.ones_like(steps)/float(len(steps))\n",
    "plt.xlabel('Steps') \n",
    "plt.ylabel('Probability') \n",
    "\n",
    "b= max(steps)+1\n",
    "plt.xticks(range(1, b))\n",
    "plt.hist(steps, weights=weights)\n",
    "\n",
    "av = np.average(steps)\n",
    "print(\"Average steps: \", av)\n",
    "\n"
   ]
  },
  {
   "cell_type": "code",
   "execution_count": 5,
   "metadata": {},
   "outputs": [
    {
     "name": "stdout",
     "output_type": "stream",
     "text": [
      "Ingrese un n:\n",
      "8\n",
      "Array: [0 1 2 3 4 5 6 7]\n",
      "Permutaciones:  40320\n",
      "Average steps:  21.0\n"
     ]
    },
    {
     "data": {
      "image/png": "[encoded data removed]",
      "text/plain": [
       "<Figure size 432x288 with 1 Axes>"
      ]
     },
     "metadata": {},
     "output_type": "display_data"
    }
   ],
   "source": [
    "def swap(v,i,j):\n",
    "    v[i], v[j] = v[j], v[i]\n",
    "\n",
    "def permDaniel(v,i,j):\n",
    "    if i==j:       \n",
    "        recur.extend(v) \n",
    "        #print(v)\n",
    "        #print(\"arr\",recur)\n",
    "        \n",
    "    for t in range(i, j+1):\n",
    "        swap(v,t,i)\n",
    "        permDaniel(v,i+1,j)\n",
    "        swap(v,t,i)\n",
    "\n",
    "print(\"Ingrese un n:\")\n",
    "n = int(input())\n",
    "steps = []\n",
    "recur = []\n",
    "arr = np.arange(n)\n",
    "print(\"Array:\", arr)\n",
    "permDaniel(arr,0,len(arr)-1)\n",
    "recur = np.array_split(recur, len(recur)/n)\n",
    "print(\"Permutaciones: \",len(recur))\n",
    "\n",
    "for i in range (0,len(recur)):\n",
    "    steps.append(insertSort(recur[i]))\n",
    "\n",
    "weights = np.ones_like(steps)/float(len(steps))\n",
    "plt.xlabel('Steps') \n",
    "plt.ylabel('Probability') \n",
    "\n",
    "b= max(steps)+1\n",
    "plt.xticks(range(1, b))\n",
    "plt.hist(steps, weights=weights)\n",
    "\n",
    "av = np.average(steps)\n",
    "print(\"Average steps: \", av)\n",
    "\n"
   ]
  },
  {
   "cell_type": "code",
   "execution_count": 6,
   "metadata": {},
   "outputs": [
    {
     "name": "stdout",
     "output_type": "stream",
     "text": [
      "Ingrese un n:\n",
      "9\n",
      "Array: [0 1 2 3 4 5 6 7 8]\n",
      "Permutaciones:  362880\n",
      "Average steps:  26.0\n"
     ]
    },
    {
     "data": {
      "image/png": "[encoded data removed]",
      "text/plain": [
       "<Figure size 432x288 with 1 Axes>"
      ]
     },
     "metadata": {},
     "output_type": "display_data"
    }
   ],
   "source": [
    "def swap(v,i,j):\n",
    "    v[i], v[j] = v[j], v[i]\n",
    "\n",
    "def permDaniel(v,i,j):\n",
    "    if i==j:       \n",
    "        recur.extend(v) \n",
    "        #print(v)\n",
    "        #print(\"arr\",recur)\n",
    "        \n",
    "    for t in range(i, j+1):\n",
    "        swap(v,t,i)\n",
    "        permDaniel(v,i+1,j)\n",
    "        swap(v,t,i)\n",
    "\n",
    "print(\"Ingrese un n:\")\n",
    "n = int(input())\n",
    "steps = []\n",
    "recur = []\n",
    "arr = np.arange(n)\n",
    "print(\"Array:\", arr)\n",
    "permDaniel(arr,0,len(arr)-1)\n",
    "recur = np.array_split(recur, len(recur)/n)\n",
    "print(\"Permutaciones: \",len(recur))\n",
    "\n",
    "for i in range (0,len(recur)):\n",
    "    steps.append(insertSort(recur[i]))\n",
    "\n",
    "weights = np.ones_like(steps)/float(len(steps))\n",
    "plt.xlabel('Steps') \n",
    "plt.ylabel('Probability') \n",
    "\n",
    "b= max(steps)+1\n",
    "plt.hist(steps, weights=weights)\n",
    "\n",
    "av = np.average(steps)\n",
    "print(\"Average steps: \", av)\n"
   ]
  },
  {
   "cell_type": "code",
   "execution_count": 7,
   "metadata": {},
   "outputs": [
    {
     "name": "stdout",
     "output_type": "stream",
     "text": [
      "Ingrese un n:\n",
      "10\n",
      "Array: [0 1 2 3 4 5 6 7 8 9]\n",
      "Permutaciones:  3628800\n",
      "Average steps:  31.5\n"
     ]
    },
    {
     "data": {
      "image/png": "[encoded data removed]",
      "text/plain": [
       "<Figure size 432x288 with 1 Axes>"
      ]
     },
     "metadata": {},
     "output_type": "display_data"
    }
   ],
   "source": [
    "def swap(v,i,j):\n",
    "    v[i], v[j] = v[j], v[i]\n",
    "\n",
    "def permDaniel(v,i,j):\n",
    "    if i==j:       \n",
    "        recur.extend(v) \n",
    "        #print(v)\n",
    "        #print(\"arr\",recur)\n",
    "        \n",
    "    for t in range(i, j+1):\n",
    "        swap(v,t,i)\n",
    "        permDaniel(v,i+1,j)\n",
    "        swap(v,t,i)\n",
    "\n",
    "print(\"Ingrese un n:\")\n",
    "n = int(input())\n",
    "steps = []\n",
    "recur = []\n",
    "arr = np.arange(n)\n",
    "print(\"Array:\", arr)\n",
    "permDaniel(arr,0,len(arr)-1)\n",
    "recur = np.array_split(recur, len(recur)/n)\n",
    "print(\"Permutaciones: \",len(recur))\n",
    "\n",
    "for i in range (0,len(recur)):\n",
    "    steps.append(insertSort(recur[i]))\n",
    "\n",
    "weights = np.ones_like(steps)/float(len(steps))\n",
    "plt.xlabel('Steps') \n",
    "plt.ylabel('Probability') \n",
    "\n",
    "b= max(steps)+1\n",
    "plt.hist(steps, weights=weights)\n",
    "\n",
    "av = np.average(steps)\n",
    "print(\"Average steps: \", av)\n"
   ]
  },
  {
   "cell_type": "code",
   "execution_count": null,
   "metadata": {},
   "outputs": [],
   "source": []
  }
 ],
 "metadata": {
  "kernelspec": {
   "display_name": "Python 3",
   "language": "python",
   "name": "python3"
  },
  "language_info": {
   "codemirror_mode": {
    "name": "ipython",
    "version": 3
   },
   "file_extension": ".py",
   "mimetype": "text/x-python",
   "name": "python",
   "nbconvert_exporter": "python",
   "pygments_lexer": "ipython3",
   "version": "3.6.2"
  }
 },
 "nbformat": 4,
 "nbformat_minor": 2
}
