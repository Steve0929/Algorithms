{
 "cells": [
  {
   "cell_type": "code",
   "execution_count": 1,
   "metadata": {},
   "outputs": [],
   "source": [
    "import numpy as np\n",
    "import time\n",
    "import itertools\n",
    "\n",
    "def insertSort(arr):\n",
    "    j,k,x,steps = 0,0,0,0\n",
    "    v = [None]*len(arr)\n",
    "    \n",
    "    for a in range(0,len(arr)):\n",
    "        v[a] = arr[a]\n",
    "        \n",
    "    for i in range(1,len(arr)):\n",
    "        x = v[i]\n",
    "        j = i-1\n",
    "        \n",
    "        while((j > -1) and (v[j] > x)):\n",
    "            v[j+1] = v[j]\n",
    "            j = j -1\n",
    "            steps+=1\n",
    "                \n",
    "        v[j+1] = x;\n",
    "        \n",
    "    return steps"
   ]
  },
  {
   "cell_type": "code",
   "execution_count": 5,
   "metadata": {},
   "outputs": [
    {
     "name": "stdout",
     "output_type": "stream",
     "text": [
      "Ingrese un n:\n",
      "4\n",
      "Array: [0 1 2 3]\n",
      "Permutations:  24\n",
      "Average steps:  3.0\n"
     ]
    },
    {
     "data": {
      "image/png": "[encoded data removed]",
      "text/plain": [
       "<Figure size 432x288 with 1 Axes>"
      ]
     },
     "metadata": {},
     "output_type": "display_data"
    }
   ],
   "source": [
    "print(\"Ingrese un n:\")\n",
    "n = int(input())\n",
    "steps = []\n",
    "arr = np.arange(n)\n",
    "print(\"Array:\", arr)\n",
    "\n",
    "permList = list(itertools.permutations(arr,n))\n",
    "#print(permList)\n",
    "print(\"Permutations: \",len(permList))\n",
    "\n",
    "for i in range (0,len(permList)):\n",
    "    steps.append(insertSort(permList[i]))\n",
    "    #print(steps)\n",
    "\n",
    "import matplotlib.pyplot as plt \n",
    "weights = np.ones_like(steps)/float(len(steps))\n",
    "plt.xlabel('Steps') \n",
    "plt.ylabel('Probability') \n",
    "\n",
    "b= max(steps)+1\n",
    "plt.xticks(range(1, b))\n",
    "plt.hist(steps, weights=weights)\n",
    "#  , bins= range(1, b)\n",
    "\n",
    "av = np.average(steps)\n",
    "print(\"Average steps: \", av)"
   ]
  },
  {
   "cell_type": "code",
   "execution_count": 6,
   "metadata": {},
   "outputs": [
    {
     "name": "stdout",
     "output_type": "stream",
     "text": [
      "Ingrese un n:\n",
      "6\n",
      "Array: [0 1 2 3 4 5]\n",
      "Permutations:  720\n",
      "Average steps:  7.5\n"
     ]
    },
    {
     "data": {
      "image/png": "[encoded data removed]",
      "text/plain": [
       "<Figure size 432x288 with 1 Axes>"
      ]
     },
     "metadata": {},
     "output_type": "display_data"
    }
   ],
   "source": [
    "print(\"Ingrese un n:\")\n",
    "n = int(input())\n",
    "steps = []\n",
    "arr = np.arange(n)\n",
    "print(\"Array:\", arr)\n",
    "\n",
    "permList = list(itertools.permutations(arr,n))\n",
    "#print(permList)\n",
    "print(\"Permutations: \",len(permList))\n",
    "\n",
    "for i in range (0,len(permList)):\n",
    "    steps.append(insertSort(permList[i]))\n",
    "    #print(steps)\n",
    "\n",
    "import matplotlib.pyplot as plt \n",
    "weights = np.ones_like(steps)/float(len(steps))\n",
    "plt.xlabel('Steps') \n",
    "plt.ylabel('Probability') \n",
    "\n",
    "b= max(steps)+1\n",
    "plt.xticks(range(1, b))\n",
    "plt.hist(steps, weights=weights)\n",
    "#  , bins= range(1, b)\n",
    "\n",
    "av = np.average(steps)\n",
    "print(\"Average steps: \", av)"
   ]
  },
  {
   "cell_type": "code",
   "execution_count": 10,
   "metadata": {},
   "outputs": [
    {
     "name": "stdout",
     "output_type": "stream",
     "text": [
      "Ingrese un n:\n",
      "9\n",
      "Array: [0 1 2 3 4 5 6 7 8]\n",
      "Permutations:  362880\n",
      "Average steps:  18.0\n"
     ]
    },
    {
     "data": {
      "image/png": "[encoded data removed]",
      "text/plain": [
       "<Figure size 432x288 with 1 Axes>"
      ]
     },
     "metadata": {},
     "output_type": "display_data"
    }
   ],
   "source": [
    "print(\"Ingrese un n:\")\n",
    "n = int(input())\n",
    "steps = []\n",
    "arr = np.arange(n)\n",
    "print(\"Array:\", arr)\n",
    "\n",
    "permList = list(itertools.permutations(arr,n))\n",
    "#print(permList)\n",
    "print(\"Permutations: \",len(permList))\n",
    "\n",
    "for i in range (0,len(permList)):\n",
    "    steps.append(insertSort(permList[i]))\n",
    "    #print(steps)\n",
    "\n",
    "import matplotlib.pyplot as plt \n",
    "weights = np.ones_like(steps)/float(len(steps))\n",
    "plt.xlabel('Steps') \n",
    "plt.ylabel('Probability') \n",
    "\n",
    "b= max(steps)+1\n",
    "plt.hist(steps, weights=weights)\n",
    "#  , bins= range(1, b)\n",
    "\n",
    "av = np.average(steps)\n",
    "print(\"Average steps: \", av)"
   ]
  }
 ],
 "metadata": {
  "kernelspec": {
   "display_name": "Python 3",
   "language": "python",
   "name": "python3"
  },
  "language_info": {
   "codemirror_mode": {
    "name": "ipython",
    "version": 3
   },
   "file_extension": ".py",
   "mimetype": "text/x-python",
   "name": "python",
   "nbconvert_exporter": "python",
   "pygments_lexer": "ipython3",
   "version": "3.6.2"
  }
 },
 "nbformat": 4,
 "nbformat_minor": 2
}
