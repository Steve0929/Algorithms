{
 "cells": [
  {
   "cell_type": "code",
   "execution_count": null,
   "metadata": {},
   "outputs": [],
   "source": [
    "import time\n",
    "times = []\n",
    "ns = []\n",
    "\n",
    "def fibonacci(n):\n",
    "    ns.append(n)\n",
    "    f1 = 0\n",
    "    f2 = 1\n",
    "    fibo = 0\n",
    "    if(n==0):\n",
    "       times.append(aux)\n",
    "       return 0  \n",
    "    if(n==1):\n",
    "       times.append(aux) \n",
    "       return 1\n",
    "\n",
    "    for i in range (1,n):\n",
    "        fibo = f1+f2\n",
    "        f1 = f2\n",
    "        f2 = fibo\n",
    "    times.append(aux)\n",
    "    return fibo"
   ]
  },
  {
   "cell_type": "code",
   "execution_count": 3,
   "metadata": {},
   "outputs": [
    {
     "name": "stdout",
     "output_type": "stream",
     "text": [
      "Ingrese un n\n",
      "7000\n",
      "Serie de Fibonacci hasta n es: \n",
      "Finish \n"
     ]
    }
   ],
   "source": [
    "aux = 0\n",
    "j = 0\n",
    "print(\"Ingrese un n\")\n",
    "n = int(input())\n",
    "print(\"Serie de Fibonacci hasta n es: \")\n",
    "\n",
    "for i in range(0, n): \n",
    "    start = time.time()\n",
    "    fibonacci(j)\n",
    "    end = time.time()\n",
    "    aux = (end - start)\n",
    "    j+=1\n",
    "    \n",
    "print(\"Finish \")"
   ]
  },
  {
   "cell_type": "code",
   "execution_count": 5,
   "metadata": {},
   "outputs": [
    {
     "data": {
      "text/plain": [
       "[<matplotlib.lines.Line2D at 0x683cc68ef0>]"
      ]
     },
     "execution_count": 5,
     "metadata": {},
     "output_type": "execute_result"
    },
    {
     "data": {
      "image/png": "[encoded data removed]",
      "text/plain": [
       "<Figure size 432x288 with 1 Axes>"
      ]
     },
     "metadata": {},
     "output_type": "display_data"
    }
   ],
   "source": [
    "import matplotlib.pyplot as plt\n",
    "plt.xlabel('N')\n",
    "plt.ylabel('Time')\n",
    "plt.plot(ns, times)"
   ]
  },
  {
   "cell_type": "code",
   "execution_count": null,
   "metadata": {},
   "outputs": [],
   "source": []
  }
 ],
 "metadata": {
  "kernelspec": {
   "display_name": "Python 3",
   "language": "python",
   "name": "python3"
  },
  "language_info": {
   "codemirror_mode": {
    "name": "ipython",
    "version": 3
   },
   "file_extension": ".py",
   "mimetype": "text/x-python",
   "name": "python",
   "nbconvert_exporter": "python",
   "pygments_lexer": "ipython3",
   "version": "3.6.2"
  }
 },
 "nbformat": 4,
 "nbformat_minor": 2
}
